{
 "cells": [
  {
   "cell_type": "code",
   "execution_count": null,
   "metadata": {},
   "outputs": [],
   "source": [
    "import re\n",
    "import pandas as pd\n",
    "from scipy.stats import zscore\n",
    "import numpy as np"
   ]
  },
  {
   "cell_type": "markdown",
   "metadata": {},
   "source": [
    "# Read data"
   ]
  },
  {
   "cell_type": "code",
   "execution_count": null,
   "metadata": {},
   "outputs": [],
   "source": [
    "df = pd.read_csv(\"cost_data_set.csv\")"
   ]
  },
  {
   "cell_type": "markdown",
   "metadata": {},
   "source": [
    "# Preprocessing"
   ]
  },
  {
   "cell_type": "code",
   "execution_count": 126,
   "metadata": {},
   "outputs": [],
   "source": [
    "df = df[df[\"cost\"]<=df[\"cpc_bid\"]]\n",
    "original_targets = df[\"cost\"]"
   ]
  },
  {
   "cell_type": "code",
   "execution_count": 127,
   "metadata": {},
   "outputs": [],
   "source": [
    "df = df.drop(['device'],axis=1)\n",
    "one_hot = pd.get_dummies(df['ad_network_type_2'])\n",
    "df = df.drop('ad_network_type_2',axis = 1)\n",
    "df = df.join(one_hot)\n",
    "df[\"date\"] = pd.to_datetime(df['date'], infer_datetime_format=True).values.astype(np.int64)\n",
    "tmp_df = df[['date','quality_score', 'clicks', 'position','gdp', 'cpc_bid', 'cost', 'Google search', 'Search partners']]\n",
    "mean = tmp_df.mean()\n",
    "std = tmp_df.std()\n",
    "df[['date','quality_score', 'clicks', 'position','gdp', 'cpc_bid', 'cost', 'Google search', 'Search partners']] = (tmp_df-tmp_df.mean())/tmp_df.std()"
   ]
  },
  {
   "cell_type": "code",
   "execution_count": 182,
   "metadata": {},
   "outputs": [
    {
     "data": {
      "text/html": [
       "<div>\n",
       "<style scoped>\n",
       "    .dataframe tbody tr th:only-of-type {\n",
       "        vertical-align: middle;\n",
       "    }\n",
       "\n",
       "    .dataframe tbody tr th {\n",
       "        vertical-align: top;\n",
       "    }\n",
       "\n",
       "    .dataframe thead th {\n",
       "        text-align: right;\n",
       "    }\n",
       "</style>\n",
       "<table border=\"1\" class=\"dataframe\">\n",
       "  <thead>\n",
       "    <tr style=\"text-align: right;\">\n",
       "      <th></th>\n",
       "      <th>date</th>\n",
       "      <th>description</th>\n",
       "      <th>keyword</th>\n",
       "      <th>headline</th>\n",
       "      <th>quality_score</th>\n",
       "      <th>location_target</th>\n",
       "      <th>clicks</th>\n",
       "      <th>position</th>\n",
       "      <th>gdp</th>\n",
       "      <th>cpc_bid</th>\n",
       "      <th>Google search</th>\n",
       "      <th>Search partners</th>\n",
       "      <th>cost</th>\n",
       "    </tr>\n",
       "  </thead>\n",
       "  <tbody>\n",
       "    <tr>\n",
       "      <td>20688</td>\n",
       "      <td>0.102039</td>\n",
       "      <td>8</td>\n",
       "      <td>reseller hosting</td>\n",
       "      <td>Top 10 Reseller Hosting Offers Last Updated: ...</td>\n",
       "      <td>1.251496</td>\n",
       "      <td>43</td>\n",
       "      <td>-0.063852</td>\n",
       "      <td>1.626404</td>\n",
       "      <td>-0.168712</td>\n",
       "      <td>-0.754485</td>\n",
       "      <td>0.243972</td>\n",
       "      <td>-0.243972</td>\n",
       "      <td>-0.680100</td>\n",
       "    </tr>\n",
       "    <tr>\n",
       "      <td>5480</td>\n",
       "      <td>-0.420317</td>\n",
       "      <td>23</td>\n",
       "      <td>node js hosting service</td>\n",
       "      <td>Top 10 Nodejs Hosting Services Last Updated: ...</td>\n",
       "      <td>-0.263806</td>\n",
       "      <td>48</td>\n",
       "      <td>-0.063852</td>\n",
       "      <td>0.652328</td>\n",
       "      <td>1.194889</td>\n",
       "      <td>0.094311</td>\n",
       "      <td>0.243972</td>\n",
       "      <td>-0.243972</td>\n",
       "      <td>0.483562</td>\n",
       "    </tr>\n",
       "    <tr>\n",
       "      <td>18241</td>\n",
       "      <td>0.408638</td>\n",
       "      <td>23</td>\n",
       "      <td>hosting node js</td>\n",
       "      <td>Top 10 Node.js Hosting Offers Last Updated: {...</td>\n",
       "      <td>1.251496</td>\n",
       "      <td>54</td>\n",
       "      <td>-0.063852</td>\n",
       "      <td>1.464058</td>\n",
       "      <td>0.560656</td>\n",
       "      <td>-0.879959</td>\n",
       "      <td>0.243972</td>\n",
       "      <td>-0.243972</td>\n",
       "      <td>-0.671183</td>\n",
       "    </tr>\n",
       "    <tr>\n",
       "      <td>6061</td>\n",
       "      <td>-0.408961</td>\n",
       "      <td>2</td>\n",
       "      <td>low price vps</td>\n",
       "      <td>Top 10 Low Cost VPS Hosting Last Updated: {=m...</td>\n",
       "      <td>1.251496</td>\n",
       "      <td>23</td>\n",
       "      <td>-0.063852</td>\n",
       "      <td>-0.971130</td>\n",
       "      <td>0.999334</td>\n",
       "      <td>-0.164018</td>\n",
       "      <td>0.243972</td>\n",
       "      <td>-0.243972</td>\n",
       "      <td>0.135801</td>\n",
       "    </tr>\n",
       "    <tr>\n",
       "      <td>1618</td>\n",
       "      <td>-2.157716</td>\n",
       "      <td>87</td>\n",
       "      <td>vps plan</td>\n",
       "      <td>Top 10 VPS Hosting Plans Compare &amp; Go Live Today</td>\n",
       "      <td>0.241295</td>\n",
       "      <td>31</td>\n",
       "      <td>-0.063852</td>\n",
       "      <td>-0.159401</td>\n",
       "      <td>0.550086</td>\n",
       "      <td>-0.547821</td>\n",
       "      <td>0.243972</td>\n",
       "      <td>-0.243972</td>\n",
       "      <td>-0.532970</td>\n",
       "    </tr>\n",
       "  </tbody>\n",
       "</table>\n",
       "</div>"
      ],
      "text/plain": [
       "           date  description                  keyword  \\\n",
       "20688  0.102039            8         reseller hosting   \n",
       "5480  -0.420317           23  node js hosting service   \n",
       "18241  0.408638           23          hosting node js   \n",
       "6061  -0.408961            2            low price vps   \n",
       "1618  -2.157716           87                 vps plan   \n",
       "\n",
       "                                                headline  quality_score  \\\n",
       "20688   Top 10 Reseller Hosting Offers Last Updated: ...       1.251496   \n",
       "5480    Top 10 Nodejs Hosting Services Last Updated: ...      -0.263806   \n",
       "18241   Top 10 Node.js Hosting Offers Last Updated: {...       1.251496   \n",
       "6061    Top 10 Low Cost VPS Hosting Last Updated: {=m...       1.251496   \n",
       "1618    Top 10 VPS Hosting Plans Compare & Go Live Today       0.241295   \n",
       "\n",
       "       location_target    clicks  position       gdp   cpc_bid  Google search  \\\n",
       "20688               43 -0.063852  1.626404 -0.168712 -0.754485       0.243972   \n",
       "5480                48 -0.063852  0.652328  1.194889  0.094311       0.243972   \n",
       "18241               54 -0.063852  1.464058  0.560656 -0.879959       0.243972   \n",
       "6061                23 -0.063852 -0.971130  0.999334 -0.164018       0.243972   \n",
       "1618                31 -0.063852 -0.159401  0.550086 -0.547821       0.243972   \n",
       "\n",
       "       Search partners      cost  \n",
       "20688        -0.243972 -0.680100  \n",
       "5480         -0.243972  0.483562  \n",
       "18241        -0.243972 -0.671183  \n",
       "6061         -0.243972  0.135801  \n",
       "1618         -0.243972 -0.532970  "
      ]
     },
     "execution_count": 182,
     "metadata": {},
     "output_type": "execute_result"
    }
   ],
   "source": [
    "df.head()"
   ]
  },
  {
   "cell_type": "code",
   "execution_count": 128,
   "metadata": {},
   "outputs": [],
   "source": [
    "targets = pd.Series(df[\"cost\"])\n",
    "df = df.drop(['cost'],axis=1)"
   ]
  },
  {
   "cell_type": "code",
   "execution_count": 129,
   "metadata": {},
   "outputs": [],
   "source": [
    "locations = {w:i for i,w in enumerate(df[\"location_target\"].unique())}\n",
    "for loc,id in locations.items():\n",
    "    df[\"location_target\"].replace(loc,id,inplace=True)"
   ]
  },
  {
   "cell_type": "code",
   "execution_count": 130,
   "metadata": {},
   "outputs": [],
   "source": [
    "from collections import Counter\n",
    "\n",
    "keyword_words = Counter()\n",
    "for __,s in enumerate(df[\"keyword\"].unique()):\n",
    "    s = s.split(\" \")\n",
    "    keyword_words.update(s)\n",
    "keyword_words = dict(filter(lambda x: x[1] > 3, keyword_words.items()))\n",
    "w2i_keyword = {w:i for i,w in enumerate(keyword_words)}"
   ]
  },
  {
   "cell_type": "code",
   "execution_count": 131,
   "metadata": {},
   "outputs": [],
   "source": [
    "descriptions = {w:i for i,w in enumerate(df[\"description\"].unique())}\n",
    "for text,id in descriptions.items():\n",
    "    df[\"description\"].replace(text,id,inplace=True)"
   ]
  },
  {
   "cell_type": "code",
   "execution_count": 132,
   "metadata": {},
   "outputs": [],
   "source": [
    "headline_words = Counter()\n",
    "for __,s in enumerate(df[\"headline\"].unique()):\n",
    "    s = s.split(\" \")\n",
    "    headline_words.update(s)\n",
    "headline_words = dict(filter(lambda x: x[1] > 3, headline_words.items()))\n",
    "w2i_headline = {w:i for i,w in enumerate(headline_words)}"
   ]
  },
  {
   "cell_type": "markdown",
   "metadata": {},
   "source": [
    "# Neural Network architacture"
   ]
  },
  {
   "cell_type": "code",
   "execution_count": 133,
   "metadata": {},
   "outputs": [],
   "source": [
    "import torch\n",
    "from torch import nn\n",
    "import torch.optim as optim\n",
    "import torch.nn.functional as F\n",
    "DESCP_SIZE = len(descriptions)\n",
    "KEY_SIZE = len(w2i_keyword)\n",
    "HEAD_SIZE = len(w2i_headline)\n",
    "LOC_SIZE = len(locations)\n",
    "class Model(nn.Module):\n",
    "    def __init__(self):\n",
    "        super(Model,self).__init__()\n",
    "        self.embedding1 = nn.Embedding(DESCP_SIZE+1,5) #163 + 1\n",
    "        self.embedding2 = nn.Embedding(KEY_SIZE+1,5) #138 + 1\n",
    "        self.embedding3 = nn.Embedding(HEAD_SIZE+1,5) #96 + 1\n",
    "        self.embedding4 = nn.Embedding(LOC_SIZE+1,5) #61 + 1\n",
    "        self.fc1 = nn.Linear(28,20)\n",
    "        self.drop1 = nn.Dropout2d(0.05)\n",
    "        self.relu1 = nn.ReLU()\n",
    "        self.fc2 = nn.Linear(20,10)\n",
    "        self.relu2 = nn.ReLU()\n",
    "        self.out = nn.Linear(10,1)\n",
    "    def forward(self,inputs):\n",
    "        description = self.embedding1(torch.tensor(inputs[1])).view(1,-1)\n",
    "        keyword = self.embedding2(torch.tensor([w2i_keyword[w] if w in w2i_keyword.keys() else KEY_SIZE for w in inputs[2].split(\" \")],dtype=torch.long))\n",
    "        keyword = torch.mean(keyword,axis=0)\n",
    "        headline = self.embedding3(torch.tensor([w2i_headline[w] if w in w2i_headline.keys() else HEAD_SIZE for w in inputs[3].split(\" \")],dtype=torch.long))\n",
    "        headline = torch.mean(headline,axis=0)\n",
    "        location = self.embedding4(torch.tensor(inputs[5])).view(1,-1)\n",
    "        # concatenating the inputs\n",
    "        x = torch.cat((torch.Tensor([[inputs[0]]]),description),1)\n",
    "        x = torch.cat((x,keyword.view(1,-1)),1)\n",
    "        x = torch.cat((x,headline.view(1,-1)),1)\n",
    "        x = torch.cat((x,torch.tensor([[inputs[4]]])),1)\n",
    "        x = torch.cat((x,location),1)\n",
    "        x = torch.cat((x,torch.Tensor([inputs[6:]])),1)\n",
    "        # input to neural network\n",
    "        x = self.fc1(x)\n",
    "        x = self.drop1(x)\n",
    "        x = self.relu1(x)\n",
    "        x = self.fc2(x)\n",
    "        x = self.relu2(x)\n",
    "        x = self.out(x)\n",
    "        return x"
   ]
  },
  {
   "cell_type": "code",
   "execution_count": 181,
   "metadata": {},
   "outputs": [
    {
     "data": {
      "text/html": [
       "<div>\n",
       "<style scoped>\n",
       "    .dataframe tbody tr th:only-of-type {\n",
       "        vertical-align: middle;\n",
       "    }\n",
       "\n",
       "    .dataframe tbody tr th {\n",
       "        vertical-align: top;\n",
       "    }\n",
       "\n",
       "    .dataframe thead th {\n",
       "        text-align: right;\n",
       "    }\n",
       "</style>\n",
       "<table border=\"1\" class=\"dataframe\">\n",
       "  <thead>\n",
       "    <tr style=\"text-align: right;\">\n",
       "      <th></th>\n",
       "      <th>date</th>\n",
       "      <th>description</th>\n",
       "      <th>keyword</th>\n",
       "      <th>headline</th>\n",
       "      <th>quality_score</th>\n",
       "      <th>location_target</th>\n",
       "      <th>clicks</th>\n",
       "      <th>position</th>\n",
       "      <th>gdp</th>\n",
       "      <th>cpc_bid</th>\n",
       "      <th>Google search</th>\n",
       "      <th>Search partners</th>\n",
       "      <th>cost</th>\n",
       "    </tr>\n",
       "  </thead>\n",
       "  <tbody>\n",
       "    <tr>\n",
       "      <td>20688</td>\n",
       "      <td>0.102039</td>\n",
       "      <td>8</td>\n",
       "      <td>reseller hosting</td>\n",
       "      <td>Top 10 Reseller Hosting Offers Last Updated: ...</td>\n",
       "      <td>1.251496</td>\n",
       "      <td>43</td>\n",
       "      <td>-0.063852</td>\n",
       "      <td>1.626404</td>\n",
       "      <td>-0.168712</td>\n",
       "      <td>-0.754485</td>\n",
       "      <td>0.243972</td>\n",
       "      <td>-0.243972</td>\n",
       "      <td>-0.680100</td>\n",
       "    </tr>\n",
       "    <tr>\n",
       "      <td>5480</td>\n",
       "      <td>-0.420317</td>\n",
       "      <td>23</td>\n",
       "      <td>node js hosting service</td>\n",
       "      <td>Top 10 Nodejs Hosting Services Last Updated: ...</td>\n",
       "      <td>-0.263806</td>\n",
       "      <td>48</td>\n",
       "      <td>-0.063852</td>\n",
       "      <td>0.652328</td>\n",
       "      <td>1.194889</td>\n",
       "      <td>0.094311</td>\n",
       "      <td>0.243972</td>\n",
       "      <td>-0.243972</td>\n",
       "      <td>0.483562</td>\n",
       "    </tr>\n",
       "    <tr>\n",
       "      <td>18241</td>\n",
       "      <td>0.408638</td>\n",
       "      <td>23</td>\n",
       "      <td>hosting node js</td>\n",
       "      <td>Top 10 Node.js Hosting Offers Last Updated: {...</td>\n",
       "      <td>1.251496</td>\n",
       "      <td>54</td>\n",
       "      <td>-0.063852</td>\n",
       "      <td>1.464058</td>\n",
       "      <td>0.560656</td>\n",
       "      <td>-0.879959</td>\n",
       "      <td>0.243972</td>\n",
       "      <td>-0.243972</td>\n",
       "      <td>-0.671183</td>\n",
       "    </tr>\n",
       "    <tr>\n",
       "      <td>6061</td>\n",
       "      <td>-0.408961</td>\n",
       "      <td>2</td>\n",
       "      <td>low price vps</td>\n",
       "      <td>Top 10 Low Cost VPS Hosting Last Updated: {=m...</td>\n",
       "      <td>1.251496</td>\n",
       "      <td>23</td>\n",
       "      <td>-0.063852</td>\n",
       "      <td>-0.971130</td>\n",
       "      <td>0.999334</td>\n",
       "      <td>-0.164018</td>\n",
       "      <td>0.243972</td>\n",
       "      <td>-0.243972</td>\n",
       "      <td>0.135801</td>\n",
       "    </tr>\n",
       "    <tr>\n",
       "      <td>1618</td>\n",
       "      <td>-2.157716</td>\n",
       "      <td>87</td>\n",
       "      <td>vps plan</td>\n",
       "      <td>Top 10 VPS Hosting Plans Compare &amp; Go Live Today</td>\n",
       "      <td>0.241295</td>\n",
       "      <td>31</td>\n",
       "      <td>-0.063852</td>\n",
       "      <td>-0.159401</td>\n",
       "      <td>0.550086</td>\n",
       "      <td>-0.547821</td>\n",
       "      <td>0.243972</td>\n",
       "      <td>-0.243972</td>\n",
       "      <td>-0.532970</td>\n",
       "    </tr>\n",
       "  </tbody>\n",
       "</table>\n",
       "</div>"
      ],
      "text/plain": [
       "           date  description                  keyword  \\\n",
       "20688  0.102039            8         reseller hosting   \n",
       "5480  -0.420317           23  node js hosting service   \n",
       "18241  0.408638           23          hosting node js   \n",
       "6061  -0.408961            2            low price vps   \n",
       "1618  -2.157716           87                 vps plan   \n",
       "\n",
       "                                                headline  quality_score  \\\n",
       "20688   Top 10 Reseller Hosting Offers Last Updated: ...       1.251496   \n",
       "5480    Top 10 Nodejs Hosting Services Last Updated: ...      -0.263806   \n",
       "18241   Top 10 Node.js Hosting Offers Last Updated: {...       1.251496   \n",
       "6061    Top 10 Low Cost VPS Hosting Last Updated: {=m...       1.251496   \n",
       "1618    Top 10 VPS Hosting Plans Compare & Go Live Today       0.241295   \n",
       "\n",
       "       location_target    clicks  position       gdp   cpc_bid  Google search  \\\n",
       "20688               43 -0.063852  1.626404 -0.168712 -0.754485       0.243972   \n",
       "5480                48 -0.063852  0.652328  1.194889  0.094311       0.243972   \n",
       "18241               54 -0.063852  1.464058  0.560656 -0.879959       0.243972   \n",
       "6061                23 -0.063852 -0.971130  0.999334 -0.164018       0.243972   \n",
       "1618                31 -0.063852 -0.159401  0.550086 -0.547821       0.243972   \n",
       "\n",
       "       Search partners      cost  \n",
       "20688        -0.243972 -0.680100  \n",
       "5480         -0.243972  0.483562  \n",
       "18241        -0.243972 -0.671183  \n",
       "6061         -0.243972  0.135801  \n",
       "1618         -0.243972 -0.532970  "
      ]
     },
     "execution_count": 181,
     "metadata": {},
     "output_type": "execute_result"
    }
   ],
   "source": [
    "df.head()"
   ]
  },
  {
   "cell_type": "markdown",
   "metadata": {},
   "source": [
    "# Train"
   ]
  },
  {
   "cell_type": "code",
   "execution_count": 134,
   "metadata": {},
   "outputs": [
    {
     "name": "stdout",
     "output_type": "stream",
     "text": [
      "-------------------epoch 0----------------\n",
      "loss: 0.2737531065940857\n",
      "-------------------epoch 1----------------\n",
      "loss: 0.24179653823375702\n",
      "-------------------epoch 2----------------\n",
      "loss: 0.2396104633808136\n",
      "-------------------epoch 3----------------\n",
      "loss: 0.23105065524578094\n",
      "-------------------epoch 4----------------\n",
      "loss: 0.22656361758708954\n",
      "-------------------epoch 5----------------\n",
      "loss: 0.21995915472507477\n",
      "-------------------epoch 6----------------\n",
      "loss: 0.21680645644664764\n",
      "-------------------epoch 7----------------\n",
      "loss: 0.2137151062488556\n",
      "-------------------epoch 8----------------\n",
      "loss: 0.21494747698307037\n",
      "-------------------epoch 9----------------\n",
      "loss: 0.21038192510604858\n"
     ]
    }
   ],
   "source": [
    "from sklearn.utils import shuffle\n",
    "from matplotlib import pyplot as plt\n",
    "model = Model()\n",
    "loss_function = nn.MSELoss()\n",
    "optimizer = optim.SGD(model.parameters(), lr=0.005)\n",
    "loss_values = []\n",
    "df = pd.concat([df, targets], axis=1)\n",
    "for epoch in range(10):\n",
    "    df = shuffle(x)\n",
    "    total_loss = 0.0\n",
    "    idx = 0\n",
    "    print(\"-------------------epoch {}----------------\".format(epoch))\n",
    "    for _,row in df.iterrows():\n",
    "        model.zero_grad()\n",
    "        price = model(row.values[:-1])\n",
    "        label = torch.Tensor([row.values[-1]])\n",
    "        loss = loss_function(price,label)\n",
    "        total_loss += loss\n",
    "        loss.backward()\n",
    "        optimizer.step()\n",
    "        idx += 1\n",
    "    print(\"loss: {}\".format(total_loss/idx))\n",
    "    loss_values.append(total_loss/idx)"
   ]
  },
  {
   "cell_type": "markdown",
   "metadata": {},
   "source": [
    "# Loss graph"
   ]
  },
  {
   "cell_type": "code",
   "execution_count": 180,
   "metadata": {},
   "outputs": [
    {
     "data": {
      "text/plain": [
       "[<matplotlib.lines.Line2D at 0x149cace8278>]"
      ]
     },
     "execution_count": 180,
     "metadata": {},
     "output_type": "execute_result"
    },
    {
     "data": {
      "image/png": "[encoded data removed]",
      "text/plain": [
       "<Figure size 432x288 with 1 Axes>"
      ]
     },
     "metadata": {
      "needs_background": "light"
     },
     "output_type": "display_data"
    }
   ],
   "source": [
    "plt.title('Train loss')\n",
    "plt.plot(range(1,11),loss_values)"
   ]
  }
 ],
 "metadata": {
  "kernelspec": {
   "display_name": "Python 3",
   "language": "python",
   "name": "python3"
  },
  "language_info": {
   "codemirror_mode": {
    "name": "ipython",
    "version": 3
   },
   "file_extension": ".py",
   "mimetype": "text/x-python",
   "name": "python",
   "nbconvert_exporter": "python",
   "pygments_lexer": "ipython3",
   "version": "3.6.9"
  }
 },
 "nbformat": 4,
 "nbformat_minor": 2
}
